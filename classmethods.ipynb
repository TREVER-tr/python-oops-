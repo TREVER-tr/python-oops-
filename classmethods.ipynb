{
 "cells": [
  {
   "cell_type": "code",
   "execution_count": 1,
   "id": "1e6a9028-5410-4b82-8e95-a25cddfaa68b",
   "metadata": {},
   "outputs": [
    {
     "name": "stdout",
     "output_type": "stream",
     "text": [
      " enter the name: yaswanth\n",
      " enter the marks: 95\n"
     ]
    },
    {
     "name": "stdout",
     "output_type": "stream",
     "text": [
      "student name:yaswanth\n",
      "student marks:95\n"
     ]
    }
   ],
   "source": [
    "# class method:not the instances,class bound \n",
    "#class :\n",
    "class student:\n",
    "    def __init__(s,name,marks):\n",
    "        s.name=name\n",
    "        s.marks=marks\n",
    "    def display(self):\n",
    "        print(f\"student name:{s.name}\")\n",
    "        print(f\"student marks:{s.marks}\")\n",
    "name= str(input(\"enter the name:\"))\n",
    "marks=int(input(\"enter the marks:\"))\n",
    "s=student(name,marks)\n",
    "s.display()\n"
   ]
  },
  {
   "cell_type": "code",
   "execution_count": 9,
   "id": "afab9d61-5ae1-4f46-a219-4729f8bd985d",
   "metadata": {},
   "outputs": [
    {
     "name": "stdout",
     "output_type": "stream",
     "text": [
      "enter the name: vijay\n",
      "enter the marks: 943\n"
     ]
    },
    {
     "name": "stdout",
     "output_type": "stream",
     "text": [
      "student name:vijay\n",
      "student marks:943\n"
     ]
    }
   ],
   "source": [
    "# class methid using\n",
    "class student:\n",
    "    def __init__(s,name,marks):\n",
    "        s.name=name\n",
    "        s.marks=marks\n",
    "    @classmethod\n",
    "    def input(cls):\n",
    "        name=str(input(\"enter the name:\"))\n",
    "        marks=int(input(\"enter the marks:\"))\n",
    "        return cls(name,marks)\n",
    "    def display(self):\n",
    "        print(f\"student name:{s.name}\")\n",
    "        print(f\"student marks:{s.marks}\")   \n",
    "s=student.input()\n",
    "s.display()"
   ]
  },
  {
   "cell_type": "code",
   "execution_count": 88,
   "id": "61dbea5e-9225-4503-82ea-ab9db834abc0",
   "metadata": {},
   "outputs": [
    {
     "name": "stdout",
     "output_type": "stream",
     "text": [
      "                                  2025\n",
      "\n",
      "      January                   February                   March\n",
      "Mo Tu We Th Fr Sa Su      Mo Tu We Th Fr Sa Su      Mo Tu We Th Fr Sa Su\n",
      "       1  2  3  4  5                      1  2                      1  2\n",
      " 6  7  8  9 10 11 12       3  4  5  6  7  8  9       3  4  5  6  7  8  9\n",
      "13 14 15 16 17 18 19      10 11 12 13 14 15 16      10 11 12 13 14 15 16\n",
      "20 21 22 23 24 25 26      17 18 19 20 21 22 23      17 18 19 20 21 22 23\n",
      "27 28 29 30 31            24 25 26 27 28            24 25 26 27 28 29 30\n",
      "                                                    31\n",
      "\n",
      "       April                      May                       June\n",
      "Mo Tu We Th Fr Sa Su      Mo Tu We Th Fr Sa Su      Mo Tu We Th Fr Sa Su\n",
      "    1  2  3  4  5  6                1  2  3  4                         1\n",
      " 7  8  9 10 11 12 13       5  6  7  8  9 10 11       2  3  4  5  6  7  8\n",
      "14 15 16 17 18 19 20      12 13 14 15 16 17 18       9 10 11 12 13 14 15\n",
      "21 22 23 24 25 26 27      19 20 21 22 23 24 25      16 17 18 19 20 21 22\n",
      "28 29 30                  26 27 28 29 30 31         23 24 25 26 27 28 29\n",
      "                                                    30\n",
      "\n",
      "        July                     August                  September\n",
      "Mo Tu We Th Fr Sa Su      Mo Tu We Th Fr Sa Su      Mo Tu We Th Fr Sa Su\n",
      "    1  2  3  4  5  6                   1  2  3       1  2  3  4  5  6  7\n",
      " 7  8  9 10 11 12 13       4  5  6  7  8  9 10       8  9 10 11 12 13 14\n",
      "14 15 16 17 18 19 20      11 12 13 14 15 16 17      15 16 17 18 19 20 21\n",
      "21 22 23 24 25 26 27      18 19 20 21 22 23 24      22 23 24 25 26 27 28\n",
      "28 29 30 31               25 26 27 28 29 30 31      29 30\n",
      "\n",
      "      October                   November                  December\n",
      "Mo Tu We Th Fr Sa Su      Mo Tu We Th Fr Sa Su      Mo Tu We Th Fr Sa Su\n",
      "       1  2  3  4  5                      1  2       1  2  3  4  5  6  7\n",
      " 6  7  8  9 10 11 12       3  4  5  6  7  8  9       8  9 10 11 12 13 14\n",
      "13 14 15 16 17 18 19      10 11 12 13 14 15 16      15 16 17 18 19 20 21\n",
      "20 21 22 23 24 25 26      17 18 19 20 21 22 23      22 23 24 25 26 27 28\n",
      "27 28 29 30 31            24 25 26 27 28 29 30      29 30 31\n"
     ]
    }
   ],
   "source": [
    "#To print full calendar \n",
    "import calendar\n",
    "calendar.prcal(2025)"
   ]
  },
  {
   "cell_type": "code",
   "execution_count": 66,
   "id": "aa621200-8787-454b-ab86-5ceaeeba0b01",
   "metadata": {},
   "outputs": [
    {
     "name": "stdout",
     "output_type": "stream",
     "text": [
      " 3\n",
      " 3\n"
     ]
    },
    {
     "name": "stdout",
     "output_type": "stream",
     "text": [
      "9\n"
     ]
    }
   ],
   "source": [
    "class prod:\n",
    "    def __init__(self,a,b):\n",
    "        self.a = a\n",
    "        self.b = b\n",
    "    def multi(abc,a,b):\n",
    "        return abc.a * abc.b\n",
    "a = int(input())\n",
    "b = int(input())\n",
    "obj1 = prod(a,b)\n",
    "#obj2 = prod(a,b)\n",
    "result = obj1.multi(a,b)\n",
    "print(result)"
   ]
  },
  {
   "cell_type": "code",
   "execution_count": 80,
   "id": "182d965c-9bdb-4835-a267-e6be12fd5975",
   "metadata": {},
   "outputs": [
    {
     "name": "stdout",
     "output_type": "stream",
     "text": [
      " enter the product name: Dell-LAPTOP\n",
      " enter the price: 50000\n",
      " entrer the  tax rate in%: 18\n"
     ]
    },
    {
     "name": "stdout",
     "output_type": "stream",
     "text": [
      "final price of Dell-LAPTOP is Rs.59000.00\n"
     ]
    }
   ],
   "source": [
    "#code to llustrate a product  with price by normal instance and calculate the products tax rate  by 105 in aclass m,ethod and print the total amount to be paid\n",
    "class product:\n",
    "    # tax rate=0.18\n",
    "    def __init__(self,name,price):\n",
    "        self.name=name\n",
    "        self.price=price\n",
    "    def finalprice(self):\n",
    "        total=self.price*(1+product.tax_rate)\n",
    "        print(f\"final price of {self.name} is Rs.{total:.2f}\")\n",
    "    @classmethod\n",
    "    def settax(cls,rate):\n",
    "        cls.tax_rate=rate/100\n",
    "name=str(input(\" enter the product name:\"))\n",
    "price=float(input(\" enter the price:\"))\n",
    "rate=int(input(\" entrer the  tax rate in%:\"))\n",
    "product.settax(rate)\n",
    "item=product(name,price)\n",
    "item.finalprice()\n"
   ]
  },
  {
   "cell_type": "code",
   "execution_count": 72,
   "id": "a05087f6-8f89-4354-82b1-bec564133e90",
   "metadata": {},
   "outputs": [
    {
     "name": "stdout",
     "output_type": "stream",
     "text": [
      "enter the value of a: 10\n",
      " enter the value opf b: 20\n"
     ]
    },
    {
     "name": "stdout",
     "output_type": "stream",
     "text": [
      "Addition result: 30\n"
     ]
    }
   ],
   "source": [
    "\" basic math operatin using @classmethod\"\n",
    "class calculator:\n",
    "    def  __init__(s,a,b):\n",
    "        s.a=a\n",
    "        s.b=b\n",
    "    @classmethod\n",
    "    def input(cls):\n",
    "        a=int(input(\"enter the value of a:\"))\n",
    "        b=int(input(\" enter the value opf b:\"))\n",
    "        return cls(a,b)\n",
    "    def add(s):\n",
    "        return s.a+s.b\n",
    "c=calculator.input()\n",
    "print(\"Addition result:\",c.add())s"
   ]
  },
  {
   "cell_type": "code",
   "execution_count": 86,
   "id": "f70ea01a-cc19-46d9-a6c7-fe5f9004d6bb",
   "metadata": {},
   "outputs": [
    {
     "name": "stdout",
     "output_type": "stream",
     "text": [
      "enter the value of a: 10\n",
      " enter the value opf b: 20\n"
     ]
    },
    {
     "name": "stdout",
     "output_type": "stream",
     "text": [
      "Addition: 30\n",
      "Subtrtaction: -10\n",
      "product: 200\n",
      "Division: 0.5\n"
     ]
    }
   ],
   "source": [
    "class calculator:\n",
    "    def  __init__(s,a,b):\n",
    "        s.a=a\n",
    "        s.b=b\n",
    "    @classmethod\n",
    "    def input(cls):\n",
    "        a=int(input(\"enter the value of a:\"))\n",
    "        b=int(input(\" enter the value opf b:\"))\n",
    "        return cls(a,b)\n",
    "    def op(s):\n",
    "        print(\"Addition:\", s.a+s.b)\n",
    "        print(\"Subtrtaction:\",s.a-s.b)\n",
    "        print(\"product:\",s.a*s.b)\n",
    "        print(\"Division:\",s.a/s.b)\n",
    "c=calculator.input()\n",
    "c.op()"
   ]
  },
  {
   "cell_type": "code",
   "execution_count": 94,
   "id": "5efce97f-aac0-4f8e-893c-3ead13102d06",
   "metadata": {},
   "outputs": [
    {
     "name": "stdout",
     "output_type": "stream",
     "text": [
      "enter your name: Acer-Laptop\n"
     ]
    },
    {
     "name": "stdout",
     "output_type": "stream",
     "text": [
      "name:Acer-Laptop\n",
      "Student name: Male\n"
     ]
    }
   ],
   "source": [
    "''' satic method using@staticmethod'''\n",
    "class student:\n",
    "    gender=\"Male\"\n",
    "    def __init__(s,name):\n",
    "        s.name=name\n",
    "    def display(s):\n",
    "        print(f\"name:{s.name}\")\n",
    "    @classmethod\n",
    "    def getname(cls):\n",
    "        return cls.gender\n",
    "name=str(input(\"enter your name:\"))\n",
    "s=student(name)\n",
    "s.display()\n",
    "print(\"Student name:\",student.getname())"
   ]
  },
  {
   "cell_type": "code",
   "execution_count": 114,
   "id": "f6e9573e-99c9-4de2-ba11-d85ffe78459a",
   "metadata": {},
   "outputs": [
    {
     "name": "stdout",
     "output_type": "stream",
     "text": [
      "enter your name: Dell-LAPTOP\n",
      "enter the resident or Non-resident: INDIAN\n"
     ]
    },
    {
     "name": "stdout",
     "output_type": "stream",
     "text": [
      "name:Dell-LAPTOP\n",
      "Student name: Male\n"
     ]
    },
    {
     "data": {
      "text/plain": [
       "' the person is indian'"
      ]
     },
     "execution_count": 114,
     "metadata": {},
     "output_type": "execute_result"
    }
   ],
   "source": [
    "''' satic method using@staticmethod'''\n",
    "class student:\n",
    "    gender=\"Male\"\n",
    "    def __init__(s,name):\n",
    "        s.name=name\n",
    "    def display(s):\n",
    "        print(f\"name:{s.name}\")\n",
    "    @classmethod\n",
    "    def getname(cls):\n",
    "        return cls.gender\n",
    "    @staticmethod\n",
    "    def residence(type_of_residence):\n",
    "        if type_of_residence.lower()==\"indian\":\n",
    "            return\" the person is indian\"\n",
    "        else:\n",
    "            return\"the person is not an indian resident \"\n",
    "        \n",
    "name=str(input(\"enter your name:\"))\n",
    "type=str(input(\"enter the resident or Non-resident:\"))\n",
    "s=student(name)\n",
    "s.display()\n",
    "print(\"Student name:\",student.getname())\n",
    "s.residence(type)"
   ]
  },
  {
   "cell_type": "code",
   "execution_count": 120,
   "id": "bd622ad2-f443-458f-a7ff-f27e114260a8",
   "metadata": {},
   "outputs": [
    {
     "name": "stdout",
     "output_type": "stream",
     "text": [
      "enter the value: 10\n",
      "enter the value: 20\n"
     ]
    },
    {
     "name": "stdout",
     "output_type": "stream",
     "text": [
      "sum: 30\n"
     ]
    }
   ],
   "source": [
    "class op:\n",
    "    @staticmethod\n",
    "    def add(a,b):\n",
    "        return a+b\n",
    "x=int(input(\"enter the value:\"))\n",
    "y=int(input(\"enter the value:\"))\n",
    "print(\"sum:\",op.add(x,y))"
   ]
  },
  {
   "cell_type": "code",
   "execution_count": 122,
   "id": "9981508a-29b9-4626-81ff-a4eccfd8761c",
   "metadata": {},
   "outputs": [
    {
     "name": "stdout",
     "output_type": "stream",
     "text": [
      "enter the value: 12\n",
      "enter the value: 13\n"
     ]
    },
    {
     "name": "stdout",
     "output_type": "stream",
     "text": [
      "sum: 25\n",
      "sub: -1\n",
      "prod: 156\n",
      "div: 0.9230769230769231\n"
     ]
    }
   ],
   "source": [
    "class op:\n",
    "    @staticmethod\n",
    "    def add(a,b):\n",
    "        return a+b\n",
    "    def sub(a,b):\n",
    "        return a-b\n",
    "    def mul(a,b):\n",
    "        return a*b\n",
    "    def div(a,b):\n",
    "        return a/b\n",
    "x=int(input(\"enter the value:\"))\n",
    "y=int(input(\"enter the value:\"))\n",
    "print(\"sum:\",op.add(x,y))\n",
    "print(\"sub:\",op.sub(x,y))\n",
    "print(\"prod:\",op.mul(x,y))\n",
    "print(\"div:\",op.div(x,y))"
   ]
  },
  {
   "cell_type": "code",
   "execution_count": null,
   "id": "aa4baa79-bd45-4e67-b9eb-008ed65419e4",
   "metadata": {},
   "outputs": [
    {
     "name": "stdout",
     "output_type": "stream",
     "text": [
      "enter the value: 1\n",
      "enter the value: 2\n"
     ]
    },
    {
     "name": "stdout",
     "output_type": "stream",
     "text": [
      "sum: 3\n",
      "sub: -1\n",
      "prod: 2\n",
      "div: 0.5\n"
     ]
    }
   ],
   "source": [
    "# nested loops with class method and static method\n",
    "class op:\n",
    "    @staticmethod\n",
    "    def add(a,b):\n",
    "        def sub(a,b):\n",
    "            return a-b\n",
    "        def mul(a,b):\n",
    "            return a*b\n",
    "        def div(a,b):\n",
    "            return a/b\n",
    "        print(\"sum:\",a+b)\n",
    "        print(\"sub:\",sub(x,y))\n",
    "        print(\"prod:\",mul(x,y))\n",
    "        print(\"div:\",div(x,y))       \n",
    "x=int(input(\"enter the value:\"))\n",
    "y=int(input(\"enter the value:\"))\n",
    "op.add(x,y)"
   ]
  },
  {
   "cell_type": "code",
   "execution_count": 140,
   "id": "175913bf-2080-4975-80b3-df49e68f99c1",
   "metadata": {},
   "outputs": [
    {
     "name": "stdout",
     "output_type": "stream",
     "text": [
      "enter the number: 10\n",
      " enter the another nuimber: 2\n"
     ]
    },
    {
     "name": "stdout",
     "output_type": "stream",
     "text": [
      "Addition-instance: 12\n"
     ]
    },
    {
     "name": "stdout",
     "output_type": "stream",
     "text": [
      " enter the num for mul: 3\n",
      " enter the another number: 5\n"
     ]
    },
    {
     "name": "stdout",
     "output_type": "stream",
     "text": [
      "Mul-static 15\n"
     ]
    }
   ],
   "source": [
    "# instance method and static method of math calculations\n",
    "class calc:\n",
    "    def __init__(s,a,b):\n",
    "        s.a=a\n",
    "        s.b=b\n",
    "    def add(s):\n",
    "        return s.a+s.b\n",
    "    @classmethod\n",
    "    def input(cls):\n",
    "        a=int(input(\"enter the number:\"))\n",
    "        b=int(input(\" enter the another nuimber:\"))\n",
    "        return cls(a,b)\n",
    "    @staticmethod\n",
    "    def mul(X,y):\n",
    "        return x*y\n",
    "c=calc.input()\n",
    "print(\"Addition-instance:\",c.add())\n",
    "x=int(input(\" enter the num for mul:\"))\n",
    "y=int(input(\" enter the another number:\"))\n",
    "print(\"Mul-static\",c.mul(x,y))"
   ]
  },
  {
   "cell_type": "code",
   "execution_count": null,
   "id": "fe54e809-7270-446c-8ec3-029fb305d23d",
   "metadata": {},
   "outputs": [],
   "source": []
  }
 ],
 "metadata": {
  "kernelspec": {
   "display_name": "Python 3 (ipykernel)",
   "language": "python",
   "name": "python3"
  },
  "language_info": {
   "codemirror_mode": {
    "name": "ipython",
    "version": 3
   },
   "file_extension": ".py",
   "mimetype": "text/x-python",
   "name": "python",
   "nbconvert_exporter": "python",
   "pygments_lexer": "ipython3",
   "version": "3.12.7"
  }
 },
 "nbformat": 4,
 "nbformat_minor": 5
}
